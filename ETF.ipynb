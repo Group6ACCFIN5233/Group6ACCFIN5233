{
 "cells": [
  {
   "cell_type": "code",
   "execution_count": 1,
   "id": "initial_id",
   "metadata": {
    "ExecuteTime": {
     "end_time": "2024-04-27T11:18:23.619033100Z",
     "start_time": "2024-04-27T11:18:23.442286900Z"
    },
    "scrolled": true
   },
   "outputs": [
    {
     "name": "stderr",
     "output_type": "stream",
     "text": [
      "D:\\ANACONDA\\Lib\\site-packages\\pandas\\core\\arrays\\masked.py:60: UserWarning: Pandas requires version '1.3.6' or newer of 'bottleneck' (version '1.3.5' currently installed).\n",
      "  from pandas.core import (\n"
     ]
    }
   ],
   "source": [
    "import numpy as np\n",
    "import pandas as pd"
   ]
  },
  {
   "cell_type": "code",
   "execution_count": 2,
   "id": "d6a7c00290263b52",
   "metadata": {
    "ExecuteTime": {
     "end_time": "2024-04-27T11:32:56.907372900Z",
     "start_time": "2024-04-27T11:32:56.901970700Z"
    }
   },
   "outputs": [],
   "source": [
    "# Set maximum number of rows, columns, and output width for pandas\n",
    "pd.set_option('display.max_rows', 6)\n",
    "pd.set_option('display.max_columns', 999)\n",
    "pd.set_option('display.max_colwidth', 50)"
   ]
  },
  {
   "cell_type": "code",
   "execution_count": 4,
   "id": "e4ab99c9bd39ca7d",
   "metadata": {
    "ExecuteTime": {
     "end_time": "2024-04-27T11:37:20.325495400Z",
     "start_time": "2024-04-27T11:37:20.307686100Z"
    }
   },
   "outputs": [
    {
     "data": {
      "text/html": [
       "<div>\n",
       "<style scoped>\n",
       "    .dataframe tbody tr th:only-of-type {\n",
       "        vertical-align: middle;\n",
       "    }\n",
       "\n",
       "    .dataframe tbody tr th {\n",
       "        vertical-align: top;\n",
       "    }\n",
       "\n",
       "    .dataframe thead th {\n",
       "        text-align: right;\n",
       "    }\n",
       "</style>\n",
       "<table border=\"1\" class=\"dataframe\">\n",
       "  <thead>\n",
       "    <tr style=\"text-align: right;\">\n",
       "      <th></th>\n",
       "      <th>Code</th>\n",
       "      <th>Name</th>\n",
       "      <th>Date</th>\n",
       "      <th>Open</th>\n",
       "      <th>High</th>\n",
       "      <th>Low</th>\n",
       "      <th>Close</th>\n",
       "      <th>Volumn</th>\n",
       "    </tr>\n",
       "  </thead>\n",
       "  <tbody>\n",
       "    <tr>\n",
       "      <th>0</th>\n",
       "      <td>BOTZ</td>\n",
       "      <td>Global X Robotics &amp; Artificial Intelligence ETF</td>\n",
       "      <td>2016/9/13</td>\n",
       "      <td>14.288</td>\n",
       "      <td>14.288</td>\n",
       "      <td>14.288</td>\n",
       "      <td>14.288</td>\n",
       "      <td>334.0</td>\n",
       "    </tr>\n",
       "    <tr>\n",
       "      <th>1</th>\n",
       "      <td>BOTZ</td>\n",
       "      <td>Global X Robotics &amp; Artificial Intelligence ETF</td>\n",
       "      <td>2016/9/19</td>\n",
       "      <td>14.346</td>\n",
       "      <td>14.375</td>\n",
       "      <td>14.336</td>\n",
       "      <td>14.365</td>\n",
       "      <td>651.0</td>\n",
       "    </tr>\n",
       "    <tr>\n",
       "      <th>2</th>\n",
       "      <td>BOTZ</td>\n",
       "      <td>Global X Robotics &amp; Artificial Intelligence ETF</td>\n",
       "      <td>2016/9/20</td>\n",
       "      <td>14.491</td>\n",
       "      <td>14.491</td>\n",
       "      <td>14.491</td>\n",
       "      <td>14.491</td>\n",
       "      <td>261.0</td>\n",
       "    </tr>\n",
       "    <tr>\n",
       "      <th>...</th>\n",
       "      <td>...</td>\n",
       "      <td>...</td>\n",
       "      <td>...</td>\n",
       "      <td>...</td>\n",
       "      <td>...</td>\n",
       "      <td>...</td>\n",
       "      <td>...</td>\n",
       "      <td>...</td>\n",
       "    </tr>\n",
       "    <tr>\n",
       "      <th>1911</th>\n",
       "      <td>BOTZ</td>\n",
       "      <td>Global X Robotics &amp; Artificial Intelligence ETF</td>\n",
       "      <td>2024/4/24</td>\n",
       "      <td>29.820</td>\n",
       "      <td>29.910</td>\n",
       "      <td>29.404</td>\n",
       "      <td>29.560</td>\n",
       "      <td>675028.0</td>\n",
       "    </tr>\n",
       "    <tr>\n",
       "      <th>1912</th>\n",
       "      <td>BOTZ</td>\n",
       "      <td>Global X Robotics &amp; Artificial Intelligence ETF</td>\n",
       "      <td>2024/4/25</td>\n",
       "      <td>28.950</td>\n",
       "      <td>29.407</td>\n",
       "      <td>28.910</td>\n",
       "      <td>29.340</td>\n",
       "      <td>635902.0</td>\n",
       "    </tr>\n",
       "    <tr>\n",
       "      <th>1913</th>\n",
       "      <td>BOTZ</td>\n",
       "      <td>Global X Robotics &amp; Artificial Intelligence ETF</td>\n",
       "      <td>2024/4/26</td>\n",
       "      <td>29.710</td>\n",
       "      <td>30.145</td>\n",
       "      <td>29.710</td>\n",
       "      <td>30.080</td>\n",
       "      <td>990880.0</td>\n",
       "    </tr>\n",
       "  </tbody>\n",
       "</table>\n",
       "<p>1914 rows × 8 columns</p>\n",
       "</div>"
      ],
      "text/plain": [
       "      Code                                             Name       Date  \\\n",
       "0     BOTZ  Global X Robotics & Artificial Intelligence ETF  2016/9/13   \n",
       "1     BOTZ  Global X Robotics & Artificial Intelligence ETF  2016/9/19   \n",
       "2     BOTZ  Global X Robotics & Artificial Intelligence ETF  2016/9/20   \n",
       "...    ...                                              ...        ...   \n",
       "1911  BOTZ  Global X Robotics & Artificial Intelligence ETF  2024/4/24   \n",
       "1912  BOTZ  Global X Robotics & Artificial Intelligence ETF  2024/4/25   \n",
       "1913  BOTZ  Global X Robotics & Artificial Intelligence ETF  2024/4/26   \n",
       "\n",
       "        Open    High     Low   Close    Volumn  \n",
       "0     14.288  14.288  14.288  14.288     334.0  \n",
       "1     14.346  14.375  14.336  14.365     651.0  \n",
       "2     14.491  14.491  14.491  14.491     261.0  \n",
       "...      ...     ...     ...     ...       ...  \n",
       "1911  29.820  29.910  29.404  29.560  675028.0  \n",
       "1912  28.950  29.407  28.910  29.340  635902.0  \n",
       "1913  29.710  30.145  29.710  30.080  990880.0  \n",
       "\n",
       "[1914 rows x 8 columns]"
      ]
     },
     "execution_count": 4,
     "metadata": {},
     "output_type": "execute_result"
    }
   ],
   "source": [
    "# Read the ETFPrices data from a CSV file\n",
    "ETFPrices = pd.read_csv(BOTZ.csv')\n",
    "ETFPrices"
   ]
  },
  {
   "cell_type": "code",
   "execution_count": 5,
   "id": "9fbe0e0a8dcd98ad",
   "metadata": {
    "ExecuteTime": {
     "end_time": "2024-04-27T11:38:46.396885300Z",
     "start_time": "2024-04-27T11:38:46.390491200Z"
    }
   },
   "outputs": [
    {
     "data": {
      "text/html": [
       "<div>\n",
       "<style scoped>\n",
       "    .dataframe tbody tr th:only-of-type {\n",
       "        vertical-align: middle;\n",
       "    }\n",
       "\n",
       "    .dataframe tbody tr th {\n",
       "        vertical-align: top;\n",
       "    }\n",
       "\n",
       "    .dataframe thead th {\n",
       "        text-align: right;\n",
       "    }\n",
       "</style>\n",
       "<table border=\"1\" class=\"dataframe\">\n",
       "  <thead>\n",
       "    <tr style=\"text-align: right;\">\n",
       "      <th></th>\n",
       "      <th>Date</th>\n",
       "      <th>Open</th>\n",
       "      <th>High</th>\n",
       "      <th>Low</th>\n",
       "      <th>Close</th>\n",
       "    </tr>\n",
       "  </thead>\n",
       "  <tbody>\n",
       "    <tr>\n",
       "      <th>0</th>\n",
       "      <td>2016/9/13</td>\n",
       "      <td>14.288</td>\n",
       "      <td>14.288</td>\n",
       "      <td>14.288</td>\n",
       "      <td>14.288</td>\n",
       "    </tr>\n",
       "    <tr>\n",
       "      <th>1</th>\n",
       "      <td>2016/9/19</td>\n",
       "      <td>14.346</td>\n",
       "      <td>14.375</td>\n",
       "      <td>14.336</td>\n",
       "      <td>14.365</td>\n",
       "    </tr>\n",
       "    <tr>\n",
       "      <th>2</th>\n",
       "      <td>2016/9/20</td>\n",
       "      <td>14.491</td>\n",
       "      <td>14.491</td>\n",
       "      <td>14.491</td>\n",
       "      <td>14.491</td>\n",
       "    </tr>\n",
       "    <tr>\n",
       "      <th>...</th>\n",
       "      <td>...</td>\n",
       "      <td>...</td>\n",
       "      <td>...</td>\n",
       "      <td>...</td>\n",
       "      <td>...</td>\n",
       "    </tr>\n",
       "    <tr>\n",
       "      <th>1911</th>\n",
       "      <td>2024/4/24</td>\n",
       "      <td>29.820</td>\n",
       "      <td>29.910</td>\n",
       "      <td>29.404</td>\n",
       "      <td>29.560</td>\n",
       "    </tr>\n",
       "    <tr>\n",
       "      <th>1912</th>\n",
       "      <td>2024/4/25</td>\n",
       "      <td>28.950</td>\n",
       "      <td>29.407</td>\n",
       "      <td>28.910</td>\n",
       "      <td>29.340</td>\n",
       "    </tr>\n",
       "    <tr>\n",
       "      <th>1913</th>\n",
       "      <td>2024/4/26</td>\n",
       "      <td>29.710</td>\n",
       "      <td>30.145</td>\n",
       "      <td>29.710</td>\n",
       "      <td>30.080</td>\n",
       "    </tr>\n",
       "  </tbody>\n",
       "</table>\n",
       "<p>1914 rows × 5 columns</p>\n",
       "</div>"
      ],
      "text/plain": [
       "           Date    Open    High     Low   Close\n",
       "0     2016/9/13  14.288  14.288  14.288  14.288\n",
       "1     2016/9/19  14.346  14.375  14.336  14.365\n",
       "2     2016/9/20  14.491  14.491  14.491  14.491\n",
       "...         ...     ...     ...     ...     ...\n",
       "1911  2024/4/24  29.820  29.910  29.404  29.560\n",
       "1912  2024/4/25  28.950  29.407  28.910  29.340\n",
       "1913  2024/4/26  29.710  30.145  29.710  30.080\n",
       "\n",
       "[1914 rows x 5 columns]"
      ]
     },
     "execution_count": 5,
     "metadata": {},
     "output_type": "execute_result"
    }
   ],
   "source": [
    "# Drop the 'Code' and 'Name' columns from the DataFrame\n",
    "ETFPrices.drop(['Code', 'Name', 'Volumn'], axis=1, inplace=True)\n",
    "ETFPrices"
   ]
  },
  {
   "cell_type": "code",
   "execution_count": 6,
   "id": "f69fbf19eafc47a5",
   "metadata": {
    "ExecuteTime": {
     "end_time": "2024-04-27T11:39:08.861477Z",
     "start_time": "2024-04-27T11:39:08.849455800Z"
    }
   },
   "outputs": [
    {
     "data": {
      "text/html": [
       "<div>\n",
       "<style scoped>\n",
       "    .dataframe tbody tr th:only-of-type {\n",
       "        vertical-align: middle;\n",
       "    }\n",
       "\n",
       "    .dataframe tbody tr th {\n",
       "        vertical-align: top;\n",
       "    }\n",
       "\n",
       "    .dataframe thead th {\n",
       "        text-align: right;\n",
       "    }\n",
       "</style>\n",
       "<table border=\"1\" class=\"dataframe\">\n",
       "  <thead>\n",
       "    <tr style=\"text-align: right;\">\n",
       "      <th></th>\n",
       "      <th>Open</th>\n",
       "      <th>High</th>\n",
       "      <th>Low</th>\n",
       "      <th>Close</th>\n",
       "    </tr>\n",
       "  </thead>\n",
       "  <tbody>\n",
       "    <tr>\n",
       "      <th>count</th>\n",
       "      <td>1914.000000</td>\n",
       "      <td>1914.000000</td>\n",
       "      <td>1914.000000</td>\n",
       "      <td>1914.000000</td>\n",
       "    </tr>\n",
       "    <tr>\n",
       "      <th>mean</th>\n",
       "      <td>24.109557</td>\n",
       "      <td>24.265849</td>\n",
       "      <td>23.912421</td>\n",
       "      <td>24.099361</td>\n",
       "    </tr>\n",
       "    <tr>\n",
       "      <th>std</th>\n",
       "      <td>5.987391</td>\n",
       "      <td>6.028127</td>\n",
       "      <td>5.926027</td>\n",
       "      <td>5.980890</td>\n",
       "    </tr>\n",
       "    <tr>\n",
       "      <th>...</th>\n",
       "      <td>...</td>\n",
       "      <td>...</td>\n",
       "      <td>...</td>\n",
       "      <td>...</td>\n",
       "    </tr>\n",
       "    <tr>\n",
       "      <th>50%</th>\n",
       "      <td>22.734000</td>\n",
       "      <td>22.874500</td>\n",
       "      <td>22.592000</td>\n",
       "      <td>22.753000</td>\n",
       "    </tr>\n",
       "    <tr>\n",
       "      <th>75%</th>\n",
       "      <td>28.212250</td>\n",
       "      <td>28.448750</td>\n",
       "      <td>27.890000</td>\n",
       "      <td>28.180250</td>\n",
       "    </tr>\n",
       "    <tr>\n",
       "      <th>max</th>\n",
       "      <td>39.801000</td>\n",
       "      <td>39.821000</td>\n",
       "      <td>39.383000</td>\n",
       "      <td>39.662000</td>\n",
       "    </tr>\n",
       "  </tbody>\n",
       "</table>\n",
       "<p>8 rows × 4 columns</p>\n",
       "</div>"
      ],
      "text/plain": [
       "              Open         High          Low        Close\n",
       "count  1914.000000  1914.000000  1914.000000  1914.000000\n",
       "mean     24.109557    24.265849    23.912421    24.099361\n",
       "std       5.987391     6.028127     5.926027     5.980890\n",
       "...            ...          ...          ...          ...\n",
       "50%      22.734000    22.874500    22.592000    22.753000\n",
       "75%      28.212250    28.448750    27.890000    28.180250\n",
       "max      39.801000    39.821000    39.383000    39.662000\n",
       "\n",
       "[8 rows x 4 columns]"
      ]
     },
     "execution_count": 6,
     "metadata": {},
     "output_type": "execute_result"
    }
   ],
   "source": [
    "ETFPrices.describe()"
   ]
  },
  {
   "cell_type": "code",
   "execution_count": 7,
   "id": "f4f749dd1f83d8ce",
   "metadata": {
    "ExecuteTime": {
     "end_time": "2024-04-27T11:40:02.484737500Z",
     "start_time": "2024-04-27T11:40:02.472006100Z"
    }
   },
   "outputs": [],
   "source": [
    "ETFPrices.to_csv('adjusted_ETFPrice.csv')"
   ]
  },
  {
   "cell_type": "code",
   "execution_count": null,
   "id": "9c53ce433a010526",
   "metadata": {},
   "outputs": [],
   "source": []
  }
 ],
 "metadata": {
  "kernelspec": {
   "display_name": "Python 3 (ipykernel)",
   "language": "python",
   "name": "python3"
  },
  "language_info": {
   "codemirror_mode": {
    "name": "ipython",
    "version": 3
   },
   "file_extension": ".py",
   "mimetype": "text/x-python",
   "name": "python",
   "nbconvert_exporter": "python",
   "pygments_lexer": "ipython3",
   "version": "3.11.5"
  }
 },
 "nbformat": 4,
 "nbformat_minor": 5
}
